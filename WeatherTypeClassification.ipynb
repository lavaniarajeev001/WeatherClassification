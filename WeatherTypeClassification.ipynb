{
 "cells": [
  {
   "cell_type": "code",
   "execution_count": 1,
   "id": "0ff0932d-5de8-4635-9924-3cd952467fa6",
   "metadata": {},
   "outputs": [
    {
     "name": "stderr",
     "output_type": "stream",
     "text": [
      "E:\\GENAI\\Llama_index\\venv\\lib\\site-packages\\sklearn\\linear_model\\_logistic.py:1247: FutureWarning: 'multi_class' was deprecated in version 1.5 and will be removed in 1.7. From then on, it will always use 'multinomial'. Leave it to its default value to avoid this warning.\n",
      "  warnings.warn(\n"
     ]
    },
    {
     "name": "stdout",
     "output_type": "stream",
     "text": [
      "Accuracy of our model:  0.8497474747474747\n",
      "Classification report: \n",
      "               precision    recall  f1-score   support\n",
      "\n",
      "           0       0.81      0.82      0.81       955\n",
      "           1       0.84      0.85      0.85       982\n",
      "           2       0.88      0.94      0.91      1033\n",
      "           3       0.87      0.79      0.83       990\n",
      "\n",
      "    accuracy                           0.85      3960\n",
      "   macro avg       0.85      0.85      0.85      3960\n",
      "weighted avg       0.85      0.85      0.85      3960\n",
      "\n",
      "Confusion Matrix: \n",
      " [[780  85  31  59]\n",
      " [ 42 835  72  33]\n",
      " [ 32  10 968  23]\n",
      " [113  64  31 782]]\n"
     ]
    }
   ],
   "source": [
    "import pandas as pd\n",
    "import numpy as np\n",
    "from sklearn.preprocessing import LabelEncoder,StandardScaler\n",
    "import seaborn as sns\n",
    "import matplotlib as plt\n",
    "from sklearn.model_selection import train_test_split\n",
    "from sklearn.ensemble import RandomForestClassifier\n",
    "from sklearn.metrics import accuracy_score,confusion_matrix,classification_report\n",
    "from sklearn.linear_model import LogisticRegression\n",
    "import pickle\n",
    "\n",
    "def get_clean_data():\n",
    "    data=pd.read_csv(\"weather_classification_data.csv\")\n",
    "    label_encoder=LabelEncoder()\n",
    "    data[\"Cloud Cover\"]=label_encoder.fit_transform(data[\"Cloud Cover\"])\n",
    "    data[\"Season\"]=label_encoder.fit_transform(data[\"Season\"])\n",
    "    data[\"Location\"]=label_encoder.fit_transform(data[\"Location\"])\n",
    "    data[\"Weather Type\"]=label_encoder.fit_transform(data[\"Weather Type\"])\n",
    "    return data\n",
    "\n",
    "def create_model(): \n",
    "    data=get_clean_data()\n",
    "    X=data.drop([\"Weather Type\"],axis=1)\n",
    "    y=data[\"Weather Type\"]\n",
    "\n",
    "    scaler=StandardScaler()\n",
    "    X=scaler.fit_transform(X)\n",
    "\n",
    "    X_train,X_test,y_train,y_test=train_test_split(X,y,test_size=0.30,random_state=42)\n",
    "    model=LogisticRegression(multi_class=\"multinomial\")\n",
    "    model.fit(X_train,y_train)\n",
    "\n",
    "    \n",
    "\n",
    "    y_pred = model.predict(X_test)\n",
    "    print('Accuracy of our model: ', accuracy_score(y_test, y_pred))\n",
    "    print(\"Classification report: \\n\", classification_report(y_test, y_pred))\n",
    "    print(\"Confusion Matrix: \\n\", confusion_matrix(y_test, y_pred))\n",
    "    return model,scaler\n",
    "\n",
    "def main():\n",
    "    data=get_clean_data()\n",
    "    model,scaler=create_model()\n",
    "\n",
    "    with open(\"model.pkl\",\"wb\") as f:\n",
    "        pickle.dump(model,f)\n",
    "    with open(\"scaler.pkl\",\"wb\") as f:\n",
    "        pickle.dump(scaler,f)\n",
    "\n",
    "if __name__==\"__main__\":\n",
    "    main()"
   ]
  },
  {
   "cell_type": "code",
   "execution_count": null,
   "id": "7c53204b-6264-495b-908c-04b78d38aefc",
   "metadata": {},
   "outputs": [],
   "source": []
  }
 ],
 "metadata": {
  "kernelspec": {
   "display_name": "Python 3 (ipykernel)",
   "language": "python",
   "name": "python3"
  },
  "language_info": {
   "codemirror_mode": {
    "name": "ipython",
    "version": 3
   },
   "file_extension": ".py",
   "mimetype": "text/x-python",
   "name": "python",
   "nbconvert_exporter": "python",
   "pygments_lexer": "ipython3",
   "version": "3.10.14"
  }
 },
 "nbformat": 4,
 "nbformat_minor": 5
}
